{
 "cells": [
  {
   "cell_type": "markdown",
   "metadata": {},
   "source": [
    "# Scrapping Data\n",
    "\n",
    "Pada bagian ini, kita akan melakukan scraping data ulasan dari aplikasi Brimo yang tersedia di Play Store. Data ulasan ini nantinya akan digunakan untuk analisis sentimen. Proses scraping dilakukan secara mandiri dengan menggunakan library `google-play-scraper` di Python."
   ]
  },
  {
   "cell_type": "markdown",
   "metadata": {},
   "source": [
    "##"
   ]
  },
  {
   "cell_type": "code",
   "execution_count": 1,
   "metadata": {},
   "outputs": [
    {
     "name": "stdout",
     "output_type": "stream",
     "text": [
      "Requirement already satisfied: google-play-scraper in c:\\users\\sion pardosi\\anaconda3\\lib\\site-packages (1.2.7)\n",
      "Note: you may need to restart the kernel to use updated packages.\n"
     ]
    }
   ],
   "source": [
    "%pip install google-play-scraper"
   ]
  },
  {
   "cell_type": "markdown",
   "metadata": {},
   "source": [
    "Penjelasan:\n",
    "\n",
    "Kode di atas menginstall library google-play-scraper yang diperlukan untuk mengambil data ulasan dari Play Store. Pastikan environment Jupyter Notebook sudah terhubung dengan internet agar proses instalasi berjalan lancar."
   ]
  },
  {
   "cell_type": "code",
   "execution_count": 2,
   "metadata": {},
   "outputs": [],
   "source": [
    "# Import library\n",
    "from google_play_scraper import reviews_all, reviews, Sort\n",
    "import pandas as pd"
   ]
  },
  {
   "cell_type": "markdown",
   "metadata": {},
   "source": [
    "Penjelasan:\n",
    "\n",
    "- google_play_scraper untuk melakukan scraping data aplikasi,\n",
    "\n",
    "- pandas untuk mengelola data dalam format DataFrame"
   ]
  },
  {
   "cell_type": "markdown",
   "metadata": {},
   "source": [
    "##"
   ]
  },
  {
   "cell_type": "markdown",
   "metadata": {},
   "source": [
    "# Data merupakan hasil scraping secara mandiri"
   ]
  },
  {
   "cell_type": "markdown",
   "metadata": {},
   "source": [
    "### Scraping ulasan aplikasi Brimo\n",
    "\n",
    "Scraping data dilakukan dari aplikasi Brimo yang tersedia di Play Store. Informasi lebih lanjut mengenai aplikasi ini dapat dilihat pada link berikut: [Brimo](https://play.google.com/store/apps/details?id=id.co.bri.brimo)\n"
   ]
  },
  {
   "cell_type": "code",
   "execution_count": 3,
   "metadata": {},
   "outputs": [],
   "source": [
    "# Mengambil 30000 ulasan aplikasi BRImobile\n",
    "scrapreview = reviews(\n",
    "    'id.co.bri.brimo',\n",
    "    lang='id',\n",
    "    country='id',\n",
    "    sort=Sort.MOST_RELEVANT,\n",
    "    count = 30000,\n",
    "    filter_score_with=5\n",
    ")"
   ]
  },
  {
   "cell_type": "code",
   "execution_count": 4,
   "metadata": {},
   "outputs": [],
   "source": [
    "# Menyimpan hasil scrap ke dalam file csv\n",
    "data = pd.DataFrame(scrapreview[0])\n",
    "data.to_csv(r'D:\\PROJECT\\DBS DICODING\\Belajar Pengembangan Machine Learning\\sentimen\\Proyek Analisis Sentimen\\Dataset\\ulasan_apk_brimo.csv', index=False)"
   ]
  },
  {
   "cell_type": "markdown",
   "metadata": {},
   "source": [
    "Penjelasan:\n",
    "\n",
    "Setelah data diambil dan disimpan dalam DataFrame, langkah terakhir adalah menyimpan data tersebut ke dalam file CSV. File ulasan_apk_brimo.csv akan digunakan untuk analisis selanjutnya seperti ekstraksi fitur, pelabelan data, dan pelatihan model analisis sentimen."
   ]
  }
 ],
 "metadata": {
  "kernelspec": {
   "display_name": "Python 3",
   "language": "python",
   "name": "python3"
  },
  "language_info": {
   "codemirror_mode": {
    "name": "ipython",
    "version": 3
   },
   "file_extension": ".py",
   "mimetype": "text/x-python",
   "name": "python",
   "nbconvert_exporter": "python",
   "pygments_lexer": "ipython3",
   "version": "3.12.4"
  }
 },
 "nbformat": 4,
 "nbformat_minor": 2
}
